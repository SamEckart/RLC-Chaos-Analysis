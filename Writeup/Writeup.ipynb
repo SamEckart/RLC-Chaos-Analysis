{
 "cells": [
  {
   "attachments": {
    "CHUAS-CIRCUIT.png": {
     "image/png": "[encoded data removed]"
    }
   },
   "cell_type": "markdown",
   "id": "a80547d5",
   "metadata": {},
   "source": [
    "# The Chua Circuit: Electrical System Chaos\n",
    "## Introduction\n",
    "The Chua Circuit is an electrical circuit that can be described by a system of nonlinear ordinary differential equations. The design was born out of a desire to present chaotic behavior in a measureable physical system. Unlike a mechanical system such as the double pendulum, electrical system behavior is much more capable of being either continuously (in the case of analog oscilloscopes) or effectively continuously (in the case of digital oscilloscopes) recorded. \n",
    "\n",
    "Initially, designs to achieve this revolved around electrically simulating the Lorentz Equations to realise chaos through the Lorentz Attractor. Attempts at this failed, however, and Leon Chua designed this circuit to realise chaos through an entirely different set of equations.\n",
    "\n",
    "<figure>\n",
    "    <img src=\"attachment:CHUAS-CIRCUIT.png\" style=\"width:50%\" alt=\"\"/>\n",
    "    <figcaption> Simple circuit diagram of The Chua Circuit. $L$ is some inductor, $r$ is the equivalent resistance through that inductor, $R$ is some resistor, $R_{n}$ is some nonlinear negative resistor, and $C_{1}$ and $C_{2}$ are capacitors. \n",
    "    </figcaption>\n",
    "</figure>\n",
    "\n",
    "These are all basic circuit components except for $R_{n}$. The nonlinear negative resistor can be crafted in several different ways, though, it is most often in the form of diode pairs and/or operational amplifiers. In the experiments conducted in this project, a dual op-amp (TL082 ACP) and an arrangment of resistors are used to construct the Chua Diode.\n",
    "\n"
   ]
  },
  {
   "cell_type": "code",
   "execution_count": null,
   "id": "22dae809",
   "metadata": {},
   "outputs": [],
   "source": []
  }
 ],
 "metadata": {
  "kernelspec": {
   "display_name": "Python 3 (ipykernel)",
   "language": "python",
   "name": "python3"
  },
  "language_info": {
   "codemirror_mode": {
    "name": "ipython",
    "version": 3
   },
   "file_extension": ".py",
   "mimetype": "text/x-python",
   "name": "python",
   "nbconvert_exporter": "python",
   "pygments_lexer": "ipython3",
   "version": "3.10.1"
  }
 },
 "nbformat": 4,
 "nbformat_minor": 5
}
